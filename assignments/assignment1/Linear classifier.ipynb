{
 "cells": [
  {
   "cell_type": "markdown",
   "metadata": {},
   "source": [
    "# Задание 1.2 - Линейный классификатор (Linear classifier)\n",
    "\n",
    "В этом задании мы реализуем другую модель машинного обучения - линейный классификатор. Линейный классификатор подбирает для каждого класса веса, на которые нужно умножить значение каждого признака и потом сложить вместе.\n",
    "Тот класс, у которого эта сумма больше, и является предсказанием модели.\n",
    "\n",
    "В этом задании вы:\n",
    "- потренируетесь считать градиенты различных многомерных функций\n",
    "- реализуете подсчет градиентов через линейную модель и функцию потерь softmax\n",
    "- реализуете процесс тренировки линейного классификатора\n",
    "- подберете параметры тренировки на практике\n",
    "\n",
    "На всякий случай, еще раз ссылка на туториал по numpy:  \n",
    "http://cs231n.github.io/python-numpy-tutorial/"
   ]
  },
  {
   "cell_type": "code",
   "execution_count": 15,
   "metadata": {},
   "outputs": [
    {
     "name": "stdout",
     "output_type": "stream",
     "text": "The autoreload extension is already loaded. To reload it, use:\n  %reload_ext autoreload\n"
    }
   ],
   "source": [
    "import numpy as np\n",
    "import matplotlib.pyplot as plt\n",
    "\n",
    "%matplotlib inline\n",
    "\n",
    "%load_ext autoreload\n",
    "%autoreload 2"
   ]
  },
  {
   "cell_type": "code",
   "execution_count": 16,
   "metadata": {},
   "outputs": [],
   "source": [
    "from dataset import load_svhn, random_split_train_val\n",
    "from gradient_check import check_gradient\n",
    "from metrics import multiclass_accuracy \n",
    "import linear_classifer"
   ]
  },
  {
   "cell_type": "markdown",
   "metadata": {},
   "source": [
    "# Как всегда, первым делом загружаем данные\n",
    "\n",
    "Мы будем использовать все тот же SVHN."
   ]
  },
  {
   "cell_type": "code",
   "execution_count": 17,
   "metadata": {},
   "outputs": [],
   "source": [
    "def prepare_for_linear_classifier(train_X, test_X):\n",
    "    train_flat = train_X.reshape(train_X.shape[0], -1).astype(np.float) / 255.0\n",
    "    test_flat = test_X.reshape(test_X.shape[0], -1).astype(np.float) / 255.0\n",
    "    \n",
    "    # Subtract mean\n",
    "    mean_image = np.mean(train_flat, axis = 0)\n",
    "    train_flat -= mean_image\n",
    "    test_flat -= mean_image\n",
    "    \n",
    "    # Add another channel with ones as a bias term\n",
    "    train_flat_with_ones = np.hstack([train_flat, np.ones((train_X.shape[0], 1))])\n",
    "    test_flat_with_ones = np.hstack([test_flat, np.ones((test_X.shape[0], 1))])    \n",
    "    return train_flat_with_ones, test_flat_with_ones\n",
    "    \n",
    "train_X, train_y, test_X, test_y = load_svhn(\"data\", max_train=10000, max_test=1000)    \n",
    "train_X, test_X = prepare_for_linear_classifier(train_X, test_X)\n",
    "# Split train into train and val\n",
    "train_X, train_y, val_X, val_y = random_split_train_val(train_X, train_y, num_val = 1000)"
   ]
  },
  {
   "cell_type": "markdown",
   "metadata": {},
   "source": [
    "# Играемся с градиентами!\n",
    "\n",
    "В этом курсе мы будем писать много функций, которые вычисляют градиенты аналитическим методом.\n",
    "\n",
    "Все функции, в которых мы будем вычислять градиенты, будут написаны по одной и той же схеме.  \n",
    "Они будут получать на вход точку, где нужно вычислить значение и градиент функции, а на выходе будут выдавать кортеж (tuple) из двух значений - собственно значения функции в этой точке (всегда одно число) и аналитического значения градиента в той же точке (той же размерности, что и вход).\n",
    "```\n",
    "def f(x):\n",
    "    \"\"\"\n",
    "    Computes function and analytic gradient at x\n",
    "    \n",
    "    x: np array of float, input to the function\n",
    "    \n",
    "    Returns:\n",
    "    value: float, value of the function \n",
    "    grad: np array of float, same shape as x\n",
    "    \"\"\"\n",
    "    ...\n",
    "    \n",
    "    return value, grad\n",
    "```\n",
    "\n",
    "Необходимым инструментом во время реализации кода, вычисляющего градиенты, является функция его проверки. Эта функция вычисляет градиент численным методом и сверяет результат с градиентом, вычисленным аналитическим методом.\n",
    "\n",
    "Мы начнем с того, чтобы реализовать вычисление численного градиента (numeric gradient) в функции `check_gradient` в `gradient_check.py`. Эта функция будет принимать на вход функции формата, заданного выше, использовать значение `value` для вычисления численного градиента и сравнит его с аналитическим - они должны сходиться.\n",
    "\n",
    "Напишите часть функции, которая вычисляет градиент с помощью численной производной для каждой координаты. Для вычисления производной используйте так называемую two-point formula (https://en.wikipedia.org/wiki/Numerical_differentiation):\n",
    "\n",
    "![image](https://wikimedia.org/api/rest_v1/media/math/render/svg/22fc2c0a66c63560a349604f8b6b39221566236d)\n",
    "\n",
    "Все функции приведенные в следующей клетке должны проходить gradient check."
   ]
  },
  {
   "cell_type": "code",
   "execution_count": 18,
   "metadata": {},
   "outputs": [
    {
     "name": "stdout",
     "output_type": "stream",
     "text": "\nfunction: (9.0, array([6.]))\n---------\nGradient check passed!\n\nfunction: (5.0, array([1., 1.]))\n---------\nGradient check passed!\n\nfunction: (6.0, array([[1., 1.],\n       [1., 1.]]))\n---------\nGradient check passed!\n"
    },
    {
     "data": {
      "text/plain": "True"
     },
     "execution_count": 18,
     "metadata": {},
     "output_type": "execute_result"
    }
   ],
   "source": [
    "# TODO: Implement check_gradient function in gradient_check.py\n",
    "# All the functions below should pass the gradient check\n",
    "\n",
    "def square(x):\n",
    "    return float(x*x), 2*x\n",
    "\n",
    "check_gradient(square, np.array([3.0]))\n",
    "\n",
    "def array_sum(x):\n",
    "    assert x.shape == (2,), x.shape\n",
    "    return np.sum(x), np.ones_like(x)\n",
    "\n",
    "check_gradient(array_sum, np.array([3.0, 2.0]))\n",
    "\n",
    "def array_2d_sum(x):\n",
    "    assert x.shape == (2,2)\n",
    "    return np.sum(x), np.ones_like(x)\n",
    "\n",
    "check_gradient(array_2d_sum, np.array([[3.0, 2.0], [1.0, 0.0]]))"
   ]
  },
  {
   "cell_type": "markdown",
   "metadata": {},
   "source": [
    "## Начинаем писать свои функции, считающие аналитический градиент\n",
    "\n",
    "Теперь реализуем функцию softmax, которая получает на вход оценки для каждого класса и преобразует их в вероятности от 0 до 1:\n",
    "![image](https://wikimedia.org/api/rest_v1/media/math/render/svg/e348290cf48ddbb6e9a6ef4e39363568b67c09d3)\n",
    "\n",
    "**Важно:** Практический аспект вычисления этой функции заключается в том, что в ней учавствует вычисление экспоненты от потенциально очень больших чисел - это может привести к очень большим значениям в числителе и знаменателе за пределами диапазона float.\n",
    "\n",
    "К счастью, у этой проблемы есть простое решение -- перед вычислением softmax вычесть из всех оценок максимальное значение среди всех оценок:\n",
    "```\n",
    "predictions -= np.max(predictions)\n",
    "```\n",
    "(подробнее здесь - http://cs231n.github.io/linear-classify/#softmax, секция `Practical issues: Numeric stability`)"
   ]
  },
  {
   "cell_type": "code",
   "execution_count": 19,
   "metadata": {},
   "outputs": [
    {
     "name": "stdout",
     "output_type": "stream",
     "text": "[2.06106005e-09 4.53978686e-05 9.99954600e-01]\n[1. 0. 0.]\n"
    }
   ],
   "source": [
    "# TODO Implement softmax and cross-entropy for single sample\n",
    "probs = linear_classifer.softmax(np.array([-10, 0, 10]))\n",
    "print(probs)\n",
    "\n",
    "# Make sure it works for big numbers too!\n",
    "probs = linear_classifer.softmax(np.array([1000, 0, 0]))\n",
    "print(probs)\n",
    "assert np.isclose(probs[0], 1.0)"
   ]
  },
  {
   "cell_type": "markdown",
   "metadata": {},
   "source": [
    "Кроме этого, мы реализуем cross-entropy loss, которую мы будем использовать как функцию ошибки (error function).\n",
    "В общем виде cross-entropy определена следующим образом:\n",
    "![image](https://wikimedia.org/api/rest_v1/media/math/render/svg/0cb6da032ab424eefdca0884cd4113fe578f4293)\n",
    "\n",
    "где x - все классы, p(x) - истинная вероятность принадлежности сэмпла классу x, а q(x) - вероятность принадлежности классу x, предсказанная моделью.  \n",
    "В нашем случае сэмпл принадлежит только одному классу, индекс которого передается функции. Для него p(x) равна 1, а для остальных классов - 0. \n",
    "\n",
    "Это позволяет реализовать функцию проще!"
   ]
  },
  {
   "cell_type": "code",
   "execution_count": 20,
   "metadata": {},
   "outputs": [
    {
     "name": "stdout",
     "output_type": "stream",
     "text": "[4.50940412e-05 6.69254912e-03 9.93262357e-01]\n"
    },
    {
     "data": {
      "text/plain": "5.006760443547122"
     },
     "execution_count": 20,
     "metadata": {},
     "output_type": "execute_result"
    }
   ],
   "source": [
    "probs = linear_classifer.softmax(np.array([-5, 0, 5]))\n",
    "print(probs)\n",
    "linear_classifer.cross_entropy_loss(probs, 1)"
   ]
  },
  {
   "cell_type": "markdown",
   "metadata": {},
   "source": [
    "После того как мы реализовали сами функции, мы можем реализовать градиент.\n",
    "\n",
    "Оказывается, что вычисление градиента становится гораздо проще, если объединить эти функции в одну, которая сначала вычисляет вероятности через softmax, а потом использует их для вычисления функции ошибки через cross-entropy loss.\n",
    "\n",
    "Эта функция `softmax_with_cross_entropy` будет возвращает и значение ошибки, и градиент по входным параметрам. Мы проверим корректность реализации с помощью `check_gradient`."
   ]
  },
  {
   "cell_type": "code",
   "execution_count": 21,
   "metadata": {},
   "outputs": [
    {
     "name": "stdout",
     "output_type": "stream",
     "text": "softmax: [0.57611688 0.21194156 0.21194156]\ncross-e loss: 1.551444713932051\nloss: 1.551444713932051\ngrad: [ 0.57611688 -0.78805844  0.21194156]\n\nfunction: (1.551444713932051, array([ 0.57611688, -0.78805844,  0.21194156]))\n---------\nGradient check passed!\n"
    },
    {
     "data": {
      "text/plain": "True"
     },
     "execution_count": 21,
     "metadata": {},
     "output_type": "execute_result"
    }
   ],
   "source": [
    "probs = linear_classifer.softmax(np.array([1, 0, 0]))\n",
    "print('softmax:', probs)\n",
    "e = linear_classifer.cross_entropy_loss(probs, 1)\n",
    "print('cross-e loss:', e)\n",
    "# TODO Implement combined function or softmax and cross entropy and produces gradient\n",
    "loss, grad = linear_classifer.softmax_with_cross_entropy(np.array([1, 0, 0]), 1)\n",
    "print('loss:', loss)\n",
    "print('grad:', grad)\n",
    "check_gradient(lambda x: linear_classifer.softmax_with_cross_entropy(x, 1), np.array([1, 0, 0], np.float))"
   ]
  },
  {
   "cell_type": "markdown",
   "metadata": {},
   "source": [
    "В качестве метода тренировки мы будем использовать стохастический градиентный спуск (stochastic gradient descent или SGD), который работает с батчами сэмплов. \n",
    "\n",
    "Поэтому все наши фукнции будут получать не один пример, а батч, то есть входом будет не вектор из `num_classes` оценок, а матрица размерности `batch_size, num_classes`. Индекс примера в батче всегда будет первым измерением.\n",
    "\n",
    "Следующий шаг - переписать наши функции так, чтобы они поддерживали батчи.\n",
    "\n",
    "Финальное значение функции ошибки должно остаться числом, и оно равно среднему значению ошибки среди всех примеров в батче."
   ]
  },
  {
   "cell_type": "code",
   "execution_count": 22,
   "metadata": {},
   "outputs": [
    {
     "name": "stdout",
     "output_type": "stream",
     "text": "\nfunction: (3.5797242232074917, array([[ 0.20603191,  0.56005279, -0.97211661,  0.20603191]]))\n---------\nGradient check passed!\n-------------------------------------------------------------------\n\nfunction: (2.160204920616996, array([[ 0.22715085,  0.01130918,  0.01130918, -0.2497692 ],\n       [ 0.03641059,  0.09897425,  0.09897425, -0.23435909],\n       [ 0.05072101,  0.13787399, -0.32646899,  0.13787399]]))\n---------\nGradient check passed!\n"
    }
   ],
   "source": [
    "# TODO Extend combined function so it can receive a 2d array with batch of samples\n",
    "np.random.seed(42)\n",
    "\n",
    "# Test batch_size = 1\n",
    "num_classes = 4\n",
    "batch_size = 1\n",
    "predictions = np.random.randint(-1, 3, size=(batch_size, num_classes)).astype(np.float)\n",
    "target_index = np.random.randint(0, num_classes, size=(batch_size, 1)).astype(np.int)\n",
    "check_gradient(lambda x: linear_classifer.softmax_with_cross_entropy(x, target_index), predictions)\n",
    "\n",
    "print('-------------------------------------------------------------------')\n",
    "# Test batch_size = 3\n",
    "num_classes = 4\n",
    "batch_size = 3\n",
    "predictions = np.random.randint(-1, 3, size=(batch_size, num_classes)).astype(np.float)\n",
    "target_index = np.random.randint(0, num_classes, size=(batch_size, 1)).astype(np.int)\n",
    "check_gradient(lambda x: linear_classifer.softmax_with_cross_entropy(x, target_index), predictions)\n",
    "\n",
    "# Make sure maximum subtraction for numberic stability is done separately for every sample in the batch\n",
    "probs = linear_classifer.softmax(np.array([[20,0,0], [1000, 0, 0]]))\n",
    "assert np.all(np.isclose(probs[:, 0], 1.0))"
   ]
  },
  {
   "cell_type": "markdown",
   "metadata": {},
   "source": [
    "### Наконец, реализуем сам линейный классификатор!\n",
    "\n",
    "softmax и cross-entropy получают на вход оценки, которые выдает линейный классификатор.\n",
    "\n",
    "Он делает это очень просто: для каждого класса есть набор весов, на которые надо умножить пиксели картинки и сложить. Получившееся число и является оценкой класса, идущей на вход softmax.\n",
    "\n",
    "Таким образом, линейный классификатор можно представить как умножение вектора с пикселями на матрицу W размера `num_features, num_classes`. Такой подход легко расширяется на случай батча векторов с пикселями X размера `batch_size, num_features`:\n",
    "\n",
    "`predictions = X * W`, где `*` - матричное умножение.\n",
    "\n",
    "Реализуйте функцию подсчета линейного классификатора и градиентов по весам `linear_softmax` в файле `linear_classifer.py`"
   ]
  },
  {
   "cell_type": "code",
   "execution_count": 23,
   "metadata": {},
   "outputs": [
    {
     "name": "stdout",
     "output_type": "stream",
     "text": "\nfunction: (1.0877576813083574, array([[-0.44039854,  0.44039854],\n       [-0.4166856 ,  0.4166856 ],\n       [ 0.46411148, -0.46411148]]))\n---------\nGradient check passed!\n"
    },
    {
     "data": {
      "text/plain": "True"
     },
     "execution_count": 23,
     "metadata": {},
     "output_type": "execute_result"
    }
   ],
   "source": [
    "# TODO Implement linear_softmax function that uses softmax with cross-entropy for linear classifier\n",
    "batch_size = 2\n",
    "num_classes = 2\n",
    "num_features = 3\n",
    "np.random.seed(42)\n",
    "W = np.random.randint(-1, 3, size=(num_features, num_classes)).astype(np.float)\n",
    "X = np.random.randint(-1, 3, size=(batch_size, num_features)).astype(np.float)\n",
    "target_index = np.ones(batch_size, dtype=np.int)\n",
    "\n",
    "loss, dW = linear_classifer.linear_softmax(X, W, target_index)\n",
    "check_gradient(lambda w: linear_classifer.linear_softmax(X, w, target_index), W)"
   ]
  },
  {
   "cell_type": "markdown",
   "metadata": {},
   "source": [
    "### И теперь регуляризация\n",
    "\n",
    "Мы будем использовать L2 regularization для весов как часть общей функции ошибки.\n",
    "\n",
    "Напомним, L2 regularization определяется как\n",
    "\n",
    "l2_reg_loss = regularization_strength * sum<sub>ij</sub> W[i, j]<sup>2</sup>\n",
    "\n",
    "Реализуйте функцию для его вычисления и вычисления соотвествующих градиентов."
   ]
  },
  {
   "cell_type": "code",
   "execution_count": 24,
   "metadata": {},
   "outputs": [
    {
     "name": "stdout",
     "output_type": "stream",
     "text": "\nfunction: (0.12, array([[ 0.02,  0.04],\n       [-0.02,  0.02],\n       [ 0.02,  0.04]]))\n---------\nGradient check passed!\n"
    },
    {
     "data": {
      "text/plain": "True"
     },
     "execution_count": 24,
     "metadata": {},
     "output_type": "execute_result"
    }
   ],
   "source": [
    "# TODO Implement l2_regularization function that implements loss for L2 regularization\n",
    "linear_classifer.l2_regularization(W, 0.01)\n",
    "check_gradient(lambda w: linear_classifer.l2_regularization(w, 0.01), W)"
   ]
  },
  {
   "cell_type": "markdown",
   "metadata": {},
   "source": [
    "# Тренировка!"
   ]
  },
  {
   "cell_type": "markdown",
   "metadata": {},
   "source": [
    "Градиенты в порядке, реализуем процесс тренировки!"
   ]
  },
  {
   "cell_type": "code",
   "execution_count": 100,
   "metadata": {},
   "outputs": [
    {
     "name": "stdout",
     "output_type": "stream",
     "text": "9000 3073 10\nEpoch 0, loss: 2.396664\nEpoch 1, loss: 2.330121\nEpoch 2, loss: 2.310721\nEpoch 3, loss: 2.304185\nEpoch 4, loss: 2.303041\nEpoch 5, loss: 2.302400\nEpoch 6, loss: 2.302707\nEpoch 7, loss: 2.302548\nEpoch 8, loss: 2.301174\nEpoch 9, loss: 2.301688\n"
    }
   ],
   "source": [
    "# TODO: Implement LinearSoftmaxClassifier.fit function\n",
    "classifier = linear_classifer.LinearSoftmaxClassifier()\n",
    "loss_history = classifier.fit(train_X, train_y, epochs=10, learning_rate=1e-3, batch_size=300, reg=1e1)"
   ]
  },
  {
   "cell_type": "code",
   "execution_count": 101,
   "metadata": {},
   "outputs": [
    {
     "data": {
      "text/plain": "[<matplotlib.lines.Line2D at 0x1cbd84a8>]"
     },
     "execution_count": 101,
     "metadata": {},
     "output_type": "execute_result"
    },
    {
     "data": {
      "image/png": "[encoded data removed]",
      "image/svg+xml": "<?xml version=\"1.0\" encoding=\"utf-8\" standalone=\"no\"?>\r\n<!DOCTYPE svg PUBLIC \"-//W3C//DTD SVG 1.1//EN\"\r\n  \"http://www.w3.org/Graphics/SVG/1.1/DTD/svg11.dtd\">\r\n<!-- Created with matplotlib (https://matplotlib.org/) -->\r\n<svg height=\"252.018125pt\" version=\"1.1\" viewBox=\"0 0 381.965625 252.018125\" width=\"381.965625pt\" xmlns=\"http://www.w3.org/2000/svg\" xmlns:xlink=\"http://www.w3.org/1999/xlink\">\r\n <defs>\r\n  <style type=\"text/css\">\r\n*{stroke-linecap:butt;stroke-linejoin:round;}\r\n  </style>\r\n </defs>\r\n <g id=\"figure_1\">\r\n  <g id=\"patch_1\">\r\n   <path d=\"M 0 252.018125 \r\nL 381.965625 252.018125 \r\nL 381.965625 0 \r\nL 0 0 \r\nz\r\n\" style=\"fill:none;\"/>\r\n  </g>\r\n  <g id=\"axes_1\">\r\n   <g id=\"patch_2\">\r\n    <path d=\"M 36.465625 228.14 \r\nL 371.265625 228.14 \r\nL 371.265625 10.7 \r\nL 36.465625 10.7 \r\nz\r\n\" style=\"fill:#ffffff;\"/>\r\n   </g>\r\n   <g id=\"matplotlib.axis_1\">\r\n    <g id=\"xtick_1\">\r\n     <g id=\"line2d_1\">\r\n      <defs>\r\n       <path d=\"M 0 0 \r\nL 0 3.5 \r\n\" id=\"mc73c731fbb\" style=\"stroke:#000000;stroke-width:0.8;\"/>\r\n      </defs>\r\n      <g>\r\n       <use style=\"stroke:#000000;stroke-width:0.8;\" x=\"51.683807\" xlink:href=\"#mc73c731fbb\" y=\"228.14\"/>\r\n      </g>\r\n     </g>\r\n     <g id=\"text_1\">\r\n      <!-- 0 -->\r\n      <defs>\r\n       <path d=\"M 31.78125 66.40625 \r\nQ 24.171875 66.40625 20.328125 58.90625 \r\nQ 16.5 51.421875 16.5 36.375 \r\nQ 16.5 21.390625 20.328125 13.890625 \r\nQ 24.171875 6.390625 31.78125 6.390625 \r\nQ 39.453125 6.390625 43.28125 13.890625 \r\nQ 47.125 21.390625 47.125 36.375 \r\nQ 47.125 51.421875 43.28125 58.90625 \r\nQ 39.453125 66.40625 31.78125 66.40625 \r\nz\r\nM 31.78125 74.21875 \r\nQ 44.046875 74.21875 50.515625 64.515625 \r\nQ 56.984375 54.828125 56.984375 36.375 \r\nQ 56.984375 17.96875 50.515625 8.265625 \r\nQ 44.046875 -1.421875 31.78125 -1.421875 \r\nQ 19.53125 -1.421875 13.0625 8.265625 \r\nQ 6.59375 17.96875 6.59375 36.375 \r\nQ 6.59375 54.828125 13.0625 64.515625 \r\nQ 19.53125 74.21875 31.78125 74.21875 \r\nz\r\n\" id=\"DejaVuSans-48\"/>\r\n      </defs>\r\n      <g transform=\"translate(48.502557 242.738437)scale(0.1 -0.1)\">\r\n       <use xlink:href=\"#DejaVuSans-48\"/>\r\n      </g>\r\n     </g>\r\n    </g>\r\n    <g id=\"xtick_2\">\r\n     <g id=\"line2d_2\">\r\n      <g>\r\n       <use style=\"stroke:#000000;stroke-width:0.8;\" x=\"102.580736\" xlink:href=\"#mc73c731fbb\" y=\"228.14\"/>\r\n      </g>\r\n     </g>\r\n     <g id=\"text_2\">\r\n      <!-- 50 -->\r\n      <defs>\r\n       <path d=\"M 10.796875 72.90625 \r\nL 49.515625 72.90625 \r\nL 49.515625 64.59375 \r\nL 19.828125 64.59375 \r\nL 19.828125 46.734375 \r\nQ 21.96875 47.46875 24.109375 47.828125 \r\nQ 26.265625 48.1875 28.421875 48.1875 \r\nQ 40.625 48.1875 47.75 41.5 \r\nQ 54.890625 34.8125 54.890625 23.390625 \r\nQ 54.890625 11.625 47.5625 5.09375 \r\nQ 40.234375 -1.421875 26.90625 -1.421875 \r\nQ 22.3125 -1.421875 17.546875 -0.640625 \r\nQ 12.796875 0.140625 7.71875 1.703125 \r\nL 7.71875 11.625 \r\nQ 12.109375 9.234375 16.796875 8.0625 \r\nQ 21.484375 6.890625 26.703125 6.890625 \r\nQ 35.15625 6.890625 40.078125 11.328125 \r\nQ 45.015625 15.765625 45.015625 23.390625 \r\nQ 45.015625 31 40.078125 35.4375 \r\nQ 35.15625 39.890625 26.703125 39.890625 \r\nQ 22.75 39.890625 18.8125 39.015625 \r\nQ 14.890625 38.140625 10.796875 36.28125 \r\nz\r\n\" id=\"DejaVuSans-53\"/>\r\n      </defs>\r\n      <g transform=\"translate(96.218236 242.738437)scale(0.1 -0.1)\">\r\n       <use xlink:href=\"#DejaVuSans-53\"/>\r\n       <use x=\"63.623047\" xlink:href=\"#DejaVuSans-48\"/>\r\n      </g>\r\n     </g>\r\n    </g>\r\n    <g id=\"xtick_3\">\r\n     <g id=\"line2d_3\">\r\n      <g>\r\n       <use style=\"stroke:#000000;stroke-width:0.8;\" x=\"153.477665\" xlink:href=\"#mc73c731fbb\" y=\"228.14\"/>\r\n      </g>\r\n     </g>\r\n     <g id=\"text_3\">\r\n      <!-- 100 -->\r\n      <defs>\r\n       <path d=\"M 12.40625 8.296875 \r\nL 28.515625 8.296875 \r\nL 28.515625 63.921875 \r\nL 10.984375 60.40625 \r\nL 10.984375 69.390625 \r\nL 28.421875 72.90625 \r\nL 38.28125 72.90625 \r\nL 38.28125 8.296875 \r\nL 54.390625 8.296875 \r\nL 54.390625 0 \r\nL 12.40625 0 \r\nz\r\n\" id=\"DejaVuSans-49\"/>\r\n      </defs>\r\n      <g transform=\"translate(143.933915 242.738437)scale(0.1 -0.1)\">\r\n       <use xlink:href=\"#DejaVuSans-49\"/>\r\n       <use x=\"63.623047\" xlink:href=\"#DejaVuSans-48\"/>\r\n       <use x=\"127.246094\" xlink:href=\"#DejaVuSans-48\"/>\r\n      </g>\r\n     </g>\r\n    </g>\r\n    <g id=\"xtick_4\">\r\n     <g id=\"line2d_4\">\r\n      <g>\r\n       <use style=\"stroke:#000000;stroke-width:0.8;\" x=\"204.374594\" xlink:href=\"#mc73c731fbb\" y=\"228.14\"/>\r\n      </g>\r\n     </g>\r\n     <g id=\"text_4\">\r\n      <!-- 150 -->\r\n      <g transform=\"translate(194.830844 242.738437)scale(0.1 -0.1)\">\r\n       <use xlink:href=\"#DejaVuSans-49\"/>\r\n       <use x=\"63.623047\" xlink:href=\"#DejaVuSans-53\"/>\r\n       <use x=\"127.246094\" xlink:href=\"#DejaVuSans-48\"/>\r\n      </g>\r\n     </g>\r\n    </g>\r\n    <g id=\"xtick_5\">\r\n     <g id=\"line2d_5\">\r\n      <g>\r\n       <use style=\"stroke:#000000;stroke-width:0.8;\" x=\"255.271523\" xlink:href=\"#mc73c731fbb\" y=\"228.14\"/>\r\n      </g>\r\n     </g>\r\n     <g id=\"text_5\">\r\n      <!-- 200 -->\r\n      <defs>\r\n       <path d=\"M 19.1875 8.296875 \r\nL 53.609375 8.296875 \r\nL 53.609375 0 \r\nL 7.328125 0 \r\nL 7.328125 8.296875 \r\nQ 12.9375 14.109375 22.625 23.890625 \r\nQ 32.328125 33.6875 34.8125 36.53125 \r\nQ 39.546875 41.84375 41.421875 45.53125 \r\nQ 43.3125 49.21875 43.3125 52.78125 \r\nQ 43.3125 58.59375 39.234375 62.25 \r\nQ 35.15625 65.921875 28.609375 65.921875 \r\nQ 23.96875 65.921875 18.8125 64.3125 \r\nQ 13.671875 62.703125 7.8125 59.421875 \r\nL 7.8125 69.390625 \r\nQ 13.765625 71.78125 18.9375 73 \r\nQ 24.125 74.21875 28.421875 74.21875 \r\nQ 39.75 74.21875 46.484375 68.546875 \r\nQ 53.21875 62.890625 53.21875 53.421875 \r\nQ 53.21875 48.921875 51.53125 44.890625 \r\nQ 49.859375 40.875 45.40625 35.40625 \r\nQ 44.1875 33.984375 37.640625 27.21875 \r\nQ 31.109375 20.453125 19.1875 8.296875 \r\nz\r\n\" id=\"DejaVuSans-50\"/>\r\n      </defs>\r\n      <g transform=\"translate(245.727773 242.738437)scale(0.1 -0.1)\">\r\n       <use xlink:href=\"#DejaVuSans-50\"/>\r\n       <use x=\"63.623047\" xlink:href=\"#DejaVuSans-48\"/>\r\n       <use x=\"127.246094\" xlink:href=\"#DejaVuSans-48\"/>\r\n      </g>\r\n     </g>\r\n    </g>\r\n    <g id=\"xtick_6\">\r\n     <g id=\"line2d_6\">\r\n      <g>\r\n       <use style=\"stroke:#000000;stroke-width:0.8;\" x=\"306.168453\" xlink:href=\"#mc73c731fbb\" y=\"228.14\"/>\r\n      </g>\r\n     </g>\r\n     <g id=\"text_6\">\r\n      <!-- 250 -->\r\n      <g transform=\"translate(296.624703 242.738437)scale(0.1 -0.1)\">\r\n       <use xlink:href=\"#DejaVuSans-50\"/>\r\n       <use x=\"63.623047\" xlink:href=\"#DejaVuSans-53\"/>\r\n       <use x=\"127.246094\" xlink:href=\"#DejaVuSans-48\"/>\r\n      </g>\r\n     </g>\r\n    </g>\r\n    <g id=\"xtick_7\">\r\n     <g id=\"line2d_7\">\r\n      <g>\r\n       <use style=\"stroke:#000000;stroke-width:0.8;\" x=\"357.065382\" xlink:href=\"#mc73c731fbb\" y=\"228.14\"/>\r\n      </g>\r\n     </g>\r\n     <g id=\"text_7\">\r\n      <!-- 300 -->\r\n      <defs>\r\n       <path d=\"M 40.578125 39.3125 \r\nQ 47.65625 37.796875 51.625 33 \r\nQ 55.609375 28.21875 55.609375 21.1875 \r\nQ 55.609375 10.40625 48.1875 4.484375 \r\nQ 40.765625 -1.421875 27.09375 -1.421875 \r\nQ 22.515625 -1.421875 17.65625 -0.515625 \r\nQ 12.796875 0.390625 7.625 2.203125 \r\nL 7.625 11.71875 \r\nQ 11.71875 9.328125 16.59375 8.109375 \r\nQ 21.484375 6.890625 26.8125 6.890625 \r\nQ 36.078125 6.890625 40.9375 10.546875 \r\nQ 45.796875 14.203125 45.796875 21.1875 \r\nQ 45.796875 27.640625 41.28125 31.265625 \r\nQ 36.765625 34.90625 28.71875 34.90625 \r\nL 20.21875 34.90625 \r\nL 20.21875 43.015625 \r\nL 29.109375 43.015625 \r\nQ 36.375 43.015625 40.234375 45.921875 \r\nQ 44.09375 48.828125 44.09375 54.296875 \r\nQ 44.09375 59.90625 40.109375 62.90625 \r\nQ 36.140625 65.921875 28.71875 65.921875 \r\nQ 24.65625 65.921875 20.015625 65.03125 \r\nQ 15.375 64.15625 9.8125 62.3125 \r\nL 9.8125 71.09375 \r\nQ 15.4375 72.65625 20.34375 73.4375 \r\nQ 25.25 74.21875 29.59375 74.21875 \r\nQ 40.828125 74.21875 47.359375 69.109375 \r\nQ 53.90625 64.015625 53.90625 55.328125 \r\nQ 53.90625 49.265625 50.4375 45.09375 \r\nQ 46.96875 40.921875 40.578125 39.3125 \r\nz\r\n\" id=\"DejaVuSans-51\"/>\r\n      </defs>\r\n      <g transform=\"translate(347.521632 242.738437)scale(0.1 -0.1)\">\r\n       <use xlink:href=\"#DejaVuSans-51\"/>\r\n       <use x=\"63.623047\" xlink:href=\"#DejaVuSans-48\"/>\r\n       <use x=\"127.246094\" xlink:href=\"#DejaVuSans-48\"/>\r\n      </g>\r\n     </g>\r\n    </g>\r\n   </g>\r\n   <g id=\"matplotlib.axis_2\">\r\n    <g id=\"ytick_1\">\r\n     <g id=\"line2d_8\">\r\n      <defs>\r\n       <path d=\"M 0 0 \r\nL -3.5 0 \r\n\" id=\"md54dba14c8\" style=\"stroke:#000000;stroke-width:0.8;\"/>\r\n      </defs>\r\n      <g>\r\n       <use style=\"stroke:#000000;stroke-width:0.8;\" x=\"36.465625\" xlink:href=\"#md54dba14c8\" y=\"218.438555\"/>\r\n      </g>\r\n     </g>\r\n     <g id=\"text_8\">\r\n      <!-- 2.30 -->\r\n      <defs>\r\n       <path d=\"M 10.6875 12.40625 \r\nL 21 12.40625 \r\nL 21 0 \r\nL 10.6875 0 \r\nz\r\n\" id=\"DejaVuSans-46\"/>\r\n      </defs>\r\n      <g transform=\"translate(7.2 222.237774)scale(0.1 -0.1)\">\r\n       <use xlink:href=\"#DejaVuSans-50\"/>\r\n       <use x=\"63.623047\" xlink:href=\"#DejaVuSans-46\"/>\r\n       <use x=\"95.410156\" xlink:href=\"#DejaVuSans-51\"/>\r\n       <use x=\"159.033203\" xlink:href=\"#DejaVuSans-48\"/>\r\n      </g>\r\n     </g>\r\n    </g>\r\n    <g id=\"ytick_2\">\r\n     <g id=\"line2d_9\">\r\n      <g>\r\n       <use style=\"stroke:#000000;stroke-width:0.8;\" x=\"36.465625\" xlink:href=\"#md54dba14c8\" y=\"186.259028\"/>\r\n      </g>\r\n     </g>\r\n     <g id=\"text_9\">\r\n      <!-- 2.35 -->\r\n      <g transform=\"translate(7.2 190.058247)scale(0.1 -0.1)\">\r\n       <use xlink:href=\"#DejaVuSans-50\"/>\r\n       <use x=\"63.623047\" xlink:href=\"#DejaVuSans-46\"/>\r\n       <use x=\"95.410156\" xlink:href=\"#DejaVuSans-51\"/>\r\n       <use x=\"159.033203\" xlink:href=\"#DejaVuSans-53\"/>\r\n      </g>\r\n     </g>\r\n    </g>\r\n    <g id=\"ytick_3\">\r\n     <g id=\"line2d_10\">\r\n      <g>\r\n       <use style=\"stroke:#000000;stroke-width:0.8;\" x=\"36.465625\" xlink:href=\"#md54dba14c8\" y=\"154.079501\"/>\r\n      </g>\r\n     </g>\r\n     <g id=\"text_10\">\r\n      <!-- 2.40 -->\r\n      <defs>\r\n       <path d=\"M 37.796875 64.3125 \r\nL 12.890625 25.390625 \r\nL 37.796875 25.390625 \r\nz\r\nM 35.203125 72.90625 \r\nL 47.609375 72.90625 \r\nL 47.609375 25.390625 \r\nL 58.015625 25.390625 \r\nL 58.015625 17.1875 \r\nL 47.609375 17.1875 \r\nL 47.609375 0 \r\nL 37.796875 0 \r\nL 37.796875 17.1875 \r\nL 4.890625 17.1875 \r\nL 4.890625 26.703125 \r\nz\r\n\" id=\"DejaVuSans-52\"/>\r\n      </defs>\r\n      <g transform=\"translate(7.2 157.87872)scale(0.1 -0.1)\">\r\n       <use xlink:href=\"#DejaVuSans-50\"/>\r\n       <use x=\"63.623047\" xlink:href=\"#DejaVuSans-46\"/>\r\n       <use x=\"95.410156\" xlink:href=\"#DejaVuSans-52\"/>\r\n       <use x=\"159.033203\" xlink:href=\"#DejaVuSans-48\"/>\r\n      </g>\r\n     </g>\r\n    </g>\r\n    <g id=\"ytick_4\">\r\n     <g id=\"line2d_11\">\r\n      <g>\r\n       <use style=\"stroke:#000000;stroke-width:0.8;\" x=\"36.465625\" xlink:href=\"#md54dba14c8\" y=\"121.899974\"/>\r\n      </g>\r\n     </g>\r\n     <g id=\"text_11\">\r\n      <!-- 2.45 -->\r\n      <g transform=\"translate(7.2 125.699193)scale(0.1 -0.1)\">\r\n       <use xlink:href=\"#DejaVuSans-50\"/>\r\n       <use x=\"63.623047\" xlink:href=\"#DejaVuSans-46\"/>\r\n       <use x=\"95.410156\" xlink:href=\"#DejaVuSans-52\"/>\r\n       <use x=\"159.033203\" xlink:href=\"#DejaVuSans-53\"/>\r\n      </g>\r\n     </g>\r\n    </g>\r\n    <g id=\"ytick_5\">\r\n     <g id=\"line2d_12\">\r\n      <g>\r\n       <use style=\"stroke:#000000;stroke-width:0.8;\" x=\"36.465625\" xlink:href=\"#md54dba14c8\" y=\"89.720447\"/>\r\n      </g>\r\n     </g>\r\n     <g id=\"text_12\">\r\n      <!-- 2.50 -->\r\n      <g transform=\"translate(7.2 93.519666)scale(0.1 -0.1)\">\r\n       <use xlink:href=\"#DejaVuSans-50\"/>\r\n       <use x=\"63.623047\" xlink:href=\"#DejaVuSans-46\"/>\r\n       <use x=\"95.410156\" xlink:href=\"#DejaVuSans-53\"/>\r\n       <use x=\"159.033203\" xlink:href=\"#DejaVuSans-48\"/>\r\n      </g>\r\n     </g>\r\n    </g>\r\n    <g id=\"ytick_6\">\r\n     <g id=\"line2d_13\">\r\n      <g>\r\n       <use style=\"stroke:#000000;stroke-width:0.8;\" x=\"36.465625\" xlink:href=\"#md54dba14c8\" y=\"57.54092\"/>\r\n      </g>\r\n     </g>\r\n     <g id=\"text_13\">\r\n      <!-- 2.55 -->\r\n      <g transform=\"translate(7.2 61.340139)scale(0.1 -0.1)\">\r\n       <use xlink:href=\"#DejaVuSans-50\"/>\r\n       <use x=\"63.623047\" xlink:href=\"#DejaVuSans-46\"/>\r\n       <use x=\"95.410156\" xlink:href=\"#DejaVuSans-53\"/>\r\n       <use x=\"159.033203\" xlink:href=\"#DejaVuSans-53\"/>\r\n      </g>\r\n     </g>\r\n    </g>\r\n    <g id=\"ytick_7\">\r\n     <g id=\"line2d_14\">\r\n      <g>\r\n       <use style=\"stroke:#000000;stroke-width:0.8;\" x=\"36.465625\" xlink:href=\"#md54dba14c8\" y=\"25.361393\"/>\r\n      </g>\r\n     </g>\r\n     <g id=\"text_14\">\r\n      <!-- 2.60 -->\r\n      <defs>\r\n       <path d=\"M 33.015625 40.375 \r\nQ 26.375 40.375 22.484375 35.828125 \r\nQ 18.609375 31.296875 18.609375 23.390625 \r\nQ 18.609375 15.53125 22.484375 10.953125 \r\nQ 26.375 6.390625 33.015625 6.390625 \r\nQ 39.65625 6.390625 43.53125 10.953125 \r\nQ 47.40625 15.53125 47.40625 23.390625 \r\nQ 47.40625 31.296875 43.53125 35.828125 \r\nQ 39.65625 40.375 33.015625 40.375 \r\nz\r\nM 52.59375 71.296875 \r\nL 52.59375 62.3125 \r\nQ 48.875 64.0625 45.09375 64.984375 \r\nQ 41.3125 65.921875 37.59375 65.921875 \r\nQ 27.828125 65.921875 22.671875 59.328125 \r\nQ 17.53125 52.734375 16.796875 39.40625 \r\nQ 19.671875 43.65625 24.015625 45.921875 \r\nQ 28.375 48.1875 33.59375 48.1875 \r\nQ 44.578125 48.1875 50.953125 41.515625 \r\nQ 57.328125 34.859375 57.328125 23.390625 \r\nQ 57.328125 12.15625 50.6875 5.359375 \r\nQ 44.046875 -1.421875 33.015625 -1.421875 \r\nQ 20.359375 -1.421875 13.671875 8.265625 \r\nQ 6.984375 17.96875 6.984375 36.375 \r\nQ 6.984375 53.65625 15.1875 63.9375 \r\nQ 23.390625 74.21875 37.203125 74.21875 \r\nQ 40.921875 74.21875 44.703125 73.484375 \r\nQ 48.484375 72.75 52.59375 71.296875 \r\nz\r\n\" id=\"DejaVuSans-54\"/>\r\n      </defs>\r\n      <g transform=\"translate(7.2 29.160612)scale(0.1 -0.1)\">\r\n       <use xlink:href=\"#DejaVuSans-50\"/>\r\n       <use x=\"63.623047\" xlink:href=\"#DejaVuSans-46\"/>\r\n       <use x=\"95.410156\" xlink:href=\"#DejaVuSans-54\"/>\r\n       <use x=\"159.033203\" xlink:href=\"#DejaVuSans-48\"/>\r\n      </g>\r\n     </g>\r\n    </g>\r\n   </g>\r\n   <g id=\"line2d_15\">\r\n    <path clip-path=\"url(#p06163a65c7)\" d=\"M 51.683807 20.583636 \r\nL 52.701745 28.339984 \r\nL 53.719684 37.031805 \r\nL 55.755561 50.755274 \r\nL 56.7735 56.463644 \r\nL 57.791438 63.898882 \r\nL 58.809377 68.851015 \r\nL 59.827315 75.398434 \r\nL 61.863193 86.315737 \r\nL 63.89907 97.207325 \r\nL 65.934947 105.530264 \r\nL 66.952886 109.618962 \r\nL 67.970824 115.129113 \r\nL 68.988763 118.091407 \r\nL 71.02464 125.779603 \r\nL 72.042578 130.258796 \r\nL 73.060517 133.088482 \r\nL 74.078456 137.021859 \r\nL 76.114333 142.94808 \r\nL 77.132271 144.75422 \r\nL 78.15021 148.398903 \r\nL 80.186087 154.269561 \r\nL 81.204026 156.22646 \r\nL 83.239903 160.958056 \r\nL 84.257841 163.584816 \r\nL 85.27578 165.417258 \r\nL 86.293719 167.965649 \r\nL 87.311657 169.476124 \r\nL 88.329596 171.518722 \r\nL 92.40135 178.465594 \r\nL 93.419289 179.79434 \r\nL 94.437227 181.891555 \r\nL 95.455166 182.876006 \r\nL 96.473104 183.063481 \r\nL 98.508982 186.624326 \r\nL 100.544859 189.020322 \r\nL 101.562797 189.982269 \r\nL 103.598675 192.499932 \r\nL 104.616613 193.416618 \r\nL 105.634552 193.978411 \r\nL 106.65249 195.797464 \r\nL 107.670429 196.184117 \r\nL 109.706306 197.471986 \r\nL 110.724245 198.703603 \r\nL 111.742183 199.052785 \r\nL 112.760122 200.104863 \r\nL 113.77806 200.432997 \r\nL 114.795999 201.490996 \r\nL 115.813938 201.764834 \r\nL 116.831876 202.927156 \r\nL 117.849815 202.740921 \r\nL 118.867753 203.526447 \r\nL 119.885692 204.858956 \r\nL 120.90363 205.029167 \r\nL 121.921569 204.807888 \r\nL 122.939508 205.062554 \r\nL 123.957446 206.19306 \r\nL 124.975385 206.694115 \r\nL 125.993323 207.329468 \r\nL 128.029201 208.01076 \r\nL 129.047139 208.633485 \r\nL 130.065078 208.768195 \r\nL 131.083016 209.422536 \r\nL 132.100955 207.940335 \r\nL 133.118893 209.543316 \r\nL 135.154771 210.465329 \r\nL 136.172709 210.205851 \r\nL 137.190648 209.822946 \r\nL 138.208586 210.338635 \r\nL 139.226525 211.370844 \r\nL 140.244464 211.172375 \r\nL 143.298279 211.958829 \r\nL 144.316218 212.507865 \r\nL 145.334156 213.201052 \r\nL 146.352095 212.743636 \r\nL 147.370034 212.429348 \r\nL 148.387972 213.393662 \r\nL 150.423849 212.809695 \r\nL 151.441788 213.578968 \r\nL 152.459727 213.717692 \r\nL 153.477665 214.056983 \r\nL 154.495604 213.537426 \r\nL 156.531481 214.526855 \r\nL 157.549419 214.130791 \r\nL 158.567358 214.826291 \r\nL 159.585297 214.77084 \r\nL 160.603235 214.931779 \r\nL 161.621174 214.954854 \r\nL 162.639112 214.440472 \r\nL 163.657051 214.949462 \r\nL 164.67499 214.482222 \r\nL 165.692928 214.643158 \r\nL 166.710867 214.988653 \r\nL 167.728805 215.963725 \r\nL 168.746744 215.119333 \r\nL 169.764682 216.020897 \r\nL 170.782621 214.436764 \r\nL 171.80056 215.491409 \r\nL 172.818498 215.745385 \r\nL 173.836437 216.345264 \r\nL 174.854375 215.59725 \r\nL 175.872314 215.898844 \r\nL 176.890253 216.043904 \r\nL 177.908191 216.584623 \r\nL 178.92613 215.189685 \r\nL 179.944068 216.013645 \r\nL 180.962007 216.287969 \r\nL 184.015823 215.946251 \r\nL 185.033761 216.117682 \r\nL 186.0517 216.613684 \r\nL 188.087577 216.308537 \r\nL 189.105516 216.56624 \r\nL 190.123454 216.379177 \r\nL 191.141393 216.567537 \r\nL 192.159331 216.25754 \r\nL 193.17727 216.506884 \r\nL 194.195208 216.198117 \r\nL 195.213147 216.453291 \r\nL 196.231086 216.842128 \r\nL 197.249024 216.797827 \r\nL 198.266963 216.564858 \r\nL 200.30284 216.550334 \r\nL 201.320779 216.817135 \r\nL 202.338717 216.833728 \r\nL 203.356656 216.481572 \r\nL 204.374594 216.973011 \r\nL 205.392533 216.340782 \r\nL 206.410471 217.265957 \r\nL 207.42841 216.744689 \r\nL 208.446349 217.384391 \r\nL 209.464287 216.475628 \r\nL 210.482226 217.406438 \r\nL 211.500164 216.797875 \r\nL 212.518103 216.692292 \r\nL 213.536042 217.188387 \r\nL 214.55398 216.65595 \r\nL 215.571919 217.182869 \r\nL 216.589857 216.829392 \r\nL 217.607796 216.754691 \r\nL 219.643673 217.412895 \r\nL 220.661612 217.114976 \r\nL 222.697489 216.698948 \r\nL 223.715427 216.79408 \r\nL 224.733366 217.01186 \r\nL 225.751305 217.344427 \r\nL 226.769243 216.751457 \r\nL 227.787182 216.92484 \r\nL 228.80512 217.476181 \r\nL 229.823059 216.783422 \r\nL 230.840997 216.556304 \r\nL 231.858936 217.106571 \r\nL 232.876875 217.164188 \r\nL 233.894813 216.893734 \r\nL 234.912752 217.103496 \r\nL 235.93069 217.162237 \r\nL 236.948629 216.852095 \r\nL 237.966568 217.261835 \r\nL 238.984506 217.004285 \r\nL 240.002445 217.42518 \r\nL 241.020383 217.022816 \r\nL 243.05626 216.828593 \r\nL 244.074199 217.012224 \r\nL 245.092138 217.368912 \r\nL 246.110076 217.007039 \r\nL 247.128015 217.399483 \r\nL 248.145953 217.490988 \r\nL 249.163892 217.024445 \r\nL 250.181831 216.965999 \r\nL 251.199769 216.790763 \r\nL 254.253585 217.497 \r\nL 255.271523 217.124764 \r\nL 258.325339 217.250622 \r\nL 259.343278 217.677884 \r\nL 260.361216 217.605542 \r\nL 261.379155 217.047262 \r\nL 262.397094 217.859947 \r\nL 263.415032 217.041433 \r\nL 264.432971 216.69617 \r\nL 265.450909 216.819593 \r\nL 266.468848 217.958597 \r\nL 267.486786 217.752831 \r\nL 268.504725 217.043096 \r\nL 270.540602 216.787677 \r\nL 274.612357 217.517115 \r\nL 275.630295 217.219534 \r\nL 276.648234 217.630647 \r\nL 278.684111 217.428855 \r\nL 279.702049 217.381396 \r\nL 280.719988 217.856601 \r\nL 281.737927 216.759581 \r\nL 283.773804 217.186711 \r\nL 284.791742 216.51105 \r\nL 285.809681 216.55672 \r\nL 286.82762 217.546111 \r\nL 287.845558 217.132147 \r\nL 288.863497 217.451525 \r\nL 289.881435 217.514076 \r\nL 290.899374 217.139666 \r\nL 292.935251 217.416993 \r\nL 293.95319 217.322613 \r\nL 294.971128 216.798901 \r\nL 295.989067 217.493705 \r\nL 297.007005 217.400669 \r\nL 298.024944 216.794354 \r\nL 300.060821 217.874404 \r\nL 301.07876 216.743248 \r\nL 302.096698 217.753462 \r\nL 303.114637 217.220552 \r\nL 304.132575 217.001851 \r\nL 306.168453 216.826388 \r\nL 307.186391 217.661689 \r\nL 308.20433 217.109393 \r\nL 309.222268 216.882898 \r\nL 310.240207 217.594966 \r\nL 311.258146 217.241613 \r\nL 312.276084 217.625046 \r\nL 313.294023 217.446281 \r\nL 314.311961 217.114364 \r\nL 315.3299 217.274699 \r\nL 316.347838 217.006851 \r\nL 317.365777 216.966448 \r\nL 318.383716 216.516068 \r\nL 321.437531 217.523083 \r\nL 322.45547 217.182267 \r\nL 323.473409 217.653243 \r\nL 324.491347 217.346006 \r\nL 325.509286 217.683049 \r\nL 327.545163 217.049587 \r\nL 328.563101 217.996879 \r\nL 329.58104 217.296349 \r\nL 330.598979 217.321349 \r\nL 331.616917 216.703504 \r\nL 332.634856 217.679346 \r\nL 333.652794 217.378058 \r\nL 334.670733 217.596938 \r\nL 335.688672 217.632504 \r\nL 336.70661 217.172162 \r\nL 337.724549 216.881471 \r\nL 338.742487 217.271606 \r\nL 339.760426 217.314212 \r\nL 340.778364 218.256364 \r\nL 341.796303 216.755037 \r\nL 342.814242 217.332507 \r\nL 343.83218 216.856776 \r\nL 344.850119 217.190128 \r\nL 345.868057 216.687493 \r\nL 346.885996 217.118245 \r\nL 347.903935 216.707541 \r\nL 348.921873 217.547502 \r\nL 349.939812 217.07184 \r\nL 350.95775 216.865278 \r\nL 351.975689 217.549723 \r\nL 352.993627 217.112836 \r\nL 355.029505 216.839945 \r\nL 356.047443 217.35242 \r\nL 356.047443 217.35242 \r\n\" style=\"fill:none;stroke:#1f77b4;stroke-linecap:square;stroke-width:1.5;\"/>\r\n   </g>\r\n   <g id=\"patch_3\">\r\n    <path d=\"M 36.465625 228.14 \r\nL 36.465625 10.7 \r\n\" style=\"fill:none;stroke:#000000;stroke-linecap:square;stroke-linejoin:miter;stroke-width:0.8;\"/>\r\n   </g>\r\n   <g id=\"patch_4\">\r\n    <path d=\"M 371.265625 228.14 \r\nL 371.265625 10.7 \r\n\" style=\"fill:none;stroke:#000000;stroke-linecap:square;stroke-linejoin:miter;stroke-width:0.8;\"/>\r\n   </g>\r\n   <g id=\"patch_5\">\r\n    <path d=\"M 36.465625 228.14 \r\nL 371.265625 228.14 \r\n\" style=\"fill:none;stroke:#000000;stroke-linecap:square;stroke-linejoin:miter;stroke-width:0.8;\"/>\r\n   </g>\r\n   <g id=\"patch_6\">\r\n    <path d=\"M 36.465625 10.7 \r\nL 371.265625 10.7 \r\n\" style=\"fill:none;stroke:#000000;stroke-linecap:square;stroke-linejoin:miter;stroke-width:0.8;\"/>\r\n   </g>\r\n  </g>\r\n </g>\r\n <defs>\r\n  <clipPath id=\"p06163a65c7\">\r\n   <rect height=\"217.44\" width=\"334.8\" x=\"36.465625\" y=\"10.7\"/>\r\n  </clipPath>\r\n </defs>\r\n</svg>\r\n",
      "text/plain": "<Figure size 432x288 with 1 Axes>"
     },
     "metadata": {
      "needs_background": "light"
     },
     "output_type": "display_data"
    }
   ],
   "source": [
    "# let's look at the loss history!\n",
    "plt.plot(loss_history)"
   ]
  },
  {
   "cell_type": "code",
   "execution_count": 104,
   "metadata": {},
   "outputs": [
    {
     "name": "stdout",
     "output_type": "stream",
     "text": "Accuracy:  0.122\n9000 3073 10\nEpoch 0, loss: 2.301662\nEpoch 1, loss: 2.302348\nEpoch 2, loss: 2.302321\nEpoch 3, loss: 2.302472\nEpoch 4, loss: 2.301481\nEpoch 5, loss: 2.302456\nEpoch 6, loss: 2.301899\nEpoch 7, loss: 2.302409\nEpoch 8, loss: 2.302056\nEpoch 9, loss: 2.301813\nEpoch 10, loss: 2.301957\nEpoch 11, loss: 2.302372\nEpoch 12, loss: 2.301738\nEpoch 13, loss: 2.301650\nEpoch 14, loss: 2.300986\nEpoch 15, loss: 2.301717\nEpoch 16, loss: 2.301610\nEpoch 17, loss: 2.301805\nEpoch 18, loss: 2.301875\nEpoch 19, loss: 2.302085\nEpoch 20, loss: 2.301219\nEpoch 21, loss: 2.302598\nEpoch 22, loss: 2.301053\nEpoch 23, loss: 2.301403\nEpoch 24, loss: 2.302004\nEpoch 25, loss: 2.303545\nEpoch 26, loss: 2.302022\nEpoch 27, loss: 2.301628\nEpoch 28, loss: 2.302994\nEpoch 29, loss: 2.301623\nEpoch 30, loss: 2.301495\nEpoch 31, loss: 2.301818\nEpoch 32, loss: 2.302134\nEpoch 33, loss: 2.301446\nEpoch 34, loss: 2.302530\nEpoch 35, loss: 2.302164\nEpoch 36, loss: 2.301362\nEpoch 37, loss: 2.301865\nEpoch 38, loss: 2.301320\nEpoch 39, loss: 2.301376\nEpoch 40, loss: 2.301497\nEpoch 41, loss: 2.301816\nEpoch 42, loss: 2.302681\nEpoch 43, loss: 2.302303\nEpoch 44, loss: 2.302028\nEpoch 45, loss: 2.301472\nEpoch 46, loss: 2.302258\nEpoch 47, loss: 2.301409\nEpoch 48, loss: 2.302432\nEpoch 49, loss: 2.302424\nEpoch 50, loss: 2.302325\nEpoch 51, loss: 2.301906\nEpoch 52, loss: 2.301939\nEpoch 53, loss: 2.301933\nEpoch 54, loss: 2.302002\nEpoch 55, loss: 2.301637\nEpoch 56, loss: 2.302375\nEpoch 57, loss: 2.302562\nEpoch 58, loss: 2.301841\nEpoch 59, loss: 2.301720\nEpoch 60, loss: 2.301937\nEpoch 61, loss: 2.302598\nEpoch 62, loss: 2.302488\nEpoch 63, loss: 2.302318\nEpoch 64, loss: 2.301082\nEpoch 65, loss: 2.302046\nEpoch 66, loss: 2.302196\nEpoch 67, loss: 2.302466\nEpoch 68, loss: 2.302731\nEpoch 69, loss: 2.301954\nEpoch 70, loss: 2.301788\nEpoch 71, loss: 2.301546\nEpoch 72, loss: 2.301862\nEpoch 73, loss: 2.301484\nEpoch 74, loss: 2.302756\nEpoch 75, loss: 2.302229\nEpoch 76, loss: 2.302310\nEpoch 77, loss: 2.302186\nEpoch 78, loss: 2.301485\nEpoch 79, loss: 2.302178\nEpoch 80, loss: 2.301435\nEpoch 81, loss: 2.301650\nEpoch 82, loss: 2.301663\nEpoch 83, loss: 2.302632\nEpoch 84, loss: 2.302170\nEpoch 85, loss: 2.302024\nEpoch 86, loss: 2.302451\nEpoch 87, loss: 2.301321\nEpoch 88, loss: 2.302133\nEpoch 89, loss: 2.302474\nEpoch 90, loss: 2.302046\nEpoch 91, loss: 2.301076\nEpoch 92, loss: 2.301700\nEpoch 93, loss: 2.302359\nEpoch 94, loss: 2.302285\nEpoch 95, loss: 2.301000\nEpoch 96, loss: 2.301840\nEpoch 97, loss: 2.302341\nEpoch 98, loss: 2.301987\nEpoch 99, loss: 2.302114\nAccuracy after training for 100 epochs:  0.128\n"
    }
   ],
   "source": [
    "# Let's check how it performs on validation set\n",
    "pred = classifier.predict(val_X)\n",
    "accuracy = multiclass_accuracy(pred, val_y)\n",
    "print(\"Accuracy: \", accuracy)\n",
    "\n",
    "# Now, let's train more and see if it performs better\n",
    "\n",
    "classifier.fit(train_X, train_y, epochs=100, learning_rate=1e-3, batch_size=300, reg=1e1)\n",
    "pred = classifier.predict(val_X)\n",
    "accuracy = multiclass_accuracy(pred, val_y)\n",
    "print(\"Accuracy after training for 100 epochs: \", accuracy)\n"
   ]
  },
  {
   "cell_type": "markdown",
   "metadata": {},
   "source": [
    "### Как и раньше, используем кросс-валидацию для подбора гиперпараметтов.\n",
    "\n",
    "В этот раз, чтобы тренировка занимала разумное время, мы будем использовать только одно разделение на тренировочные (training) и проверочные (validation) данные.\n",
    "\n",
    "Теперь нам нужно подобрать не один, а два гиперпараметра! Не ограничивайте себя изначальными значениями в коде.  \n",
    "Добейтесь точности более чем **20%** на проверочных данных (validation data)."
   ]
  },
  {
   "cell_type": "code",
   "execution_count": 115,
   "metadata": {},
   "outputs": [
    {
     "name": "stdout",
     "output_type": "stream",
     "text": "Epoch 0, loss: 2.298117\nEpoch 1, loss: 2.304811\nEpoch 2, loss: 2.295595\nEpoch 3, loss: 2.289181\nEpoch 4, loss: 2.295620\nEpoch 5, loss: 2.295927\nEpoch 6, loss: 2.293883\nEpoch 7, loss: 2.283851\nEpoch 8, loss: 2.296657\nEpoch 9, loss: 2.278460\nEpoch 10, loss: 2.269790\nEpoch 11, loss: 2.281397\nEpoch 12, loss: 2.270796\nEpoch 13, loss: 2.271848\nEpoch 14, loss: 2.272860\nEpoch 15, loss: 2.277612\nEpoch 16, loss: 2.249604\nEpoch 17, loss: 2.262552\nEpoch 18, loss: 2.279202\nEpoch 19, loss: 2.263517\ntrain learning_rate = 0.001 reg_strength = 0.0001 accuracy = 0.203\nEpoch 0, loss: 2.300627\nEpoch 1, loss: 2.297364\nEpoch 2, loss: 2.295219\nEpoch 3, loss: 2.293257\nEpoch 4, loss: 2.290247\nEpoch 5, loss: 2.294790\nEpoch 6, loss: 2.283375\nEpoch 7, loss: 2.293131\nEpoch 8, loss: 2.274889\nEpoch 9, loss: 2.267795\nEpoch 10, loss: 2.281885\nEpoch 11, loss: 2.289479\nEpoch 12, loss: 2.290818\nEpoch 13, loss: 2.266727\nEpoch 14, loss: 2.272879\nEpoch 15, loss: 2.289791\nEpoch 16, loss: 2.259621\nEpoch 17, loss: 2.247184\nEpoch 18, loss: 2.262831\nEpoch 19, loss: 2.235716\ntrain learning_rate = 0.001 reg_strength = 1e-05 accuracy = 0.213\nEpoch 0, loss: 2.300126\nEpoch 1, loss: 2.304387\nEpoch 2, loss: 2.296148\nEpoch 3, loss: 2.292093\nEpoch 4, loss: 2.296709\nEpoch 5, loss: 2.286688\nEpoch 6, loss: 2.276717\nEpoch 7, loss: 2.283030\nEpoch 8, loss: 2.274613\nEpoch 9, loss: 2.282618\nEpoch 10, loss: 2.281496\nEpoch 11, loss: 2.284918\nEpoch 12, loss: 2.275349\nEpoch 13, loss: 2.268928\nEpoch 14, loss: 2.260500\nEpoch 15, loss: 2.253553\nEpoch 16, loss: 2.241381\nEpoch 17, loss: 2.270109\nEpoch 18, loss: 2.265073\nEpoch 19, loss: 2.256076\ntrain learning_rate = 0.001 reg_strength = 1e-06 accuracy = 0.202\nEpoch 0, loss: 2.303089\nEpoch 1, loss: 2.297977\nEpoch 2, loss: 2.298330\nEpoch 3, loss: 2.297599\nEpoch 4, loss: 2.293706\nEpoch 5, loss: 2.290021\nEpoch 6, loss: 2.279592\nEpoch 7, loss: 2.283464\nEpoch 8, loss: 2.283084\nEpoch 9, loss: 2.269066\nEpoch 10, loss: 2.276320\nEpoch 11, loss: 2.277859\nEpoch 12, loss: 2.274167\nEpoch 13, loss: 2.283728\nEpoch 14, loss: 2.272714\nEpoch 15, loss: 2.270342\nEpoch 16, loss: 2.256279\nEpoch 17, loss: 2.261574\nEpoch 18, loss: 2.228509\nEpoch 19, loss: 2.265334\ntrain learning_rate = 0.001 reg_strength = 1e-07 accuracy = 0.211\nEpoch 0, loss: 2.301253\nEpoch 1, loss: 2.301805\nEpoch 2, loss: 2.302394\nEpoch 3, loss: 2.301077\nEpoch 4, loss: 2.302078\nEpoch 5, loss: 2.302495\nEpoch 6, loss: 2.301821\nEpoch 7, loss: 2.298969\nEpoch 8, loss: 2.299408\nEpoch 9, loss: 2.299425\nEpoch 10, loss: 2.299927\nEpoch 11, loss: 2.300721\nEpoch 12, loss: 2.298639\nEpoch 13, loss: 2.297646\nEpoch 14, loss: 2.296330\nEpoch 15, loss: 2.296000\nEpoch 16, loss: 2.296518\nEpoch 17, loss: 2.300287\nEpoch 18, loss: 2.292933\nEpoch 19, loss: 2.295911\ntrain learning_rate = 0.0001 reg_strength = 0.0001 accuracy = 0.132\nEpoch 0, loss: 2.302358\nEpoch 1, loss: 2.301428\nEpoch 2, loss: 2.300773\nEpoch 3, loss: 2.300466\nEpoch 4, loss: 2.300865\nEpoch 5, loss: 2.301699\nEpoch 6, loss: 2.300412\nEpoch 7, loss: 2.301559\nEpoch 8, loss: 2.300825\nEpoch 9, loss: 2.301553\nEpoch 10, loss: 2.300595\nEpoch 11, loss: 2.301250\nEpoch 12, loss: 2.297763\nEpoch 13, loss: 2.298687\nEpoch 14, loss: 2.297108\nEpoch 15, loss: 2.295708\nEpoch 16, loss: 2.297003\nEpoch 17, loss: 2.296830\nEpoch 18, loss: 2.292247\nEpoch 19, loss: 2.300093\ntrain learning_rate = 0.0001 reg_strength = 1e-05 accuracy = 0.143\nEpoch 0, loss: 2.302255\nEpoch 1, loss: 2.300256\nEpoch 2, loss: 2.301802\nEpoch 3, loss: 2.302887\nEpoch 4, loss: 2.302189\nEpoch 5, loss: 2.301799\nEpoch 6, loss: 2.300753\nEpoch 7, loss: 2.300864\nEpoch 8, loss: 2.298416\nEpoch 9, loss: 2.299245\nEpoch 10, loss: 2.300245\nEpoch 11, loss: 2.297020\nEpoch 12, loss: 2.296307\nEpoch 13, loss: 2.296629\nEpoch 14, loss: 2.297786\nEpoch 15, loss: 2.298475\nEpoch 16, loss: 2.294814\nEpoch 17, loss: 2.297620\nEpoch 18, loss: 2.295482\nEpoch 19, loss: 2.298232\ntrain learning_rate = 0.0001 reg_strength = 1e-06 accuracy = 0.131\nEpoch 0, loss: 2.303245\nEpoch 1, loss: 2.302106\nEpoch 2, loss: 2.301414\nEpoch 3, loss: 2.302078\nEpoch 4, loss: 2.301572\nEpoch 5, loss: 2.302338\nEpoch 6, loss: 2.304959\nEpoch 7, loss: 2.301230\nEpoch 8, loss: 2.300333\nEpoch 9, loss: 2.299571\nEpoch 10, loss: 2.299453\nEpoch 11, loss: 2.302351\nEpoch 12, loss: 2.298050\nEpoch 13, loss: 2.298127\nEpoch 14, loss: 2.295983\nEpoch 15, loss: 2.298759\nEpoch 16, loss: 2.295237\nEpoch 17, loss: 2.294123\nEpoch 18, loss: 2.299490\nEpoch 19, loss: 2.297525\ntrain learning_rate = 0.0001 reg_strength = 1e-07 accuracy = 0.126\nEpoch 0, loss: 2.302236\nEpoch 1, loss: 2.303051\nEpoch 2, loss: 2.301280\nEpoch 3, loss: 2.303248\nEpoch 4, loss: 2.301672\nEpoch 5, loss: 2.300462\nEpoch 6, loss: 2.303780\nEpoch 7, loss: 2.301953\nEpoch 8, loss: 2.304461\nEpoch 9, loss: 2.303396\nEpoch 10, loss: 2.302614\nEpoch 11, loss: 2.302614\nEpoch 12, loss: 2.302533\nEpoch 13, loss: 2.300602\nEpoch 14, loss: 2.303155\nEpoch 15, loss: 2.301268\nEpoch 16, loss: 2.301976\nEpoch 17, loss: 2.303249\nEpoch 18, loss: 2.300209\nEpoch 19, loss: 2.302339\ntrain learning_rate = 1e-05 reg_strength = 0.0001 accuracy = 0.098\nEpoch 0, loss: 2.303625\nEpoch 1, loss: 2.304275\nEpoch 2, loss: 2.302258\nEpoch 3, loss: 2.301736\nEpoch 4, loss: 2.300381\nEpoch 5, loss: 2.302079\nEpoch 6, loss: 2.303184\nEpoch 7, loss: 2.302460\nEpoch 8, loss: 2.301386\nEpoch 9, loss: 2.302428\nEpoch 10, loss: 2.302836\nEpoch 11, loss: 2.305443\nEpoch 12, loss: 2.302998\nEpoch 13, loss: 2.304718\nEpoch 14, loss: 2.301301\nEpoch 15, loss: 2.301582\nEpoch 16, loss: 2.301558\nEpoch 17, loss: 2.302169\nEpoch 18, loss: 2.300408\nEpoch 19, loss: 2.303691\ntrain learning_rate = 1e-05 reg_strength = 1e-05 accuracy = 0.101\nEpoch 0, loss: 2.303837\nEpoch 1, loss: 2.302348\nEpoch 2, loss: 2.300007\nEpoch 3, loss: 2.303863\nEpoch 4, loss: 2.303801\nEpoch 5, loss: 2.302946\nEpoch 6, loss: 2.304203\nEpoch 7, loss: 2.305209\nEpoch 8, loss: 2.300981\nEpoch 9, loss: 2.301828\nEpoch 10, loss: 2.303486\nEpoch 11, loss: 2.302257\nEpoch 12, loss: 2.301762\nEpoch 13, loss: 2.302399\nEpoch 14, loss: 2.302403\nEpoch 15, loss: 2.302109\nEpoch 16, loss: 2.302149\nEpoch 17, loss: 2.301493\nEpoch 18, loss: 2.301435\nEpoch 19, loss: 2.301396\ntrain learning_rate = 1e-05 reg_strength = 1e-06 accuracy = 0.095\nEpoch 0, loss: 2.301718\nEpoch 1, loss: 2.301873\nEpoch 2, loss: 2.303368\nEpoch 3, loss: 2.303838\nEpoch 4, loss: 2.303133\nEpoch 5, loss: 2.303757\nEpoch 6, loss: 2.301173\nEpoch 7, loss: 2.301605\nEpoch 8, loss: 2.301933\nEpoch 9, loss: 2.303110\nEpoch 10, loss: 2.300918\nEpoch 11, loss: 2.301410\nEpoch 12, loss: 2.302113\nEpoch 13, loss: 2.301660\nEpoch 14, loss: 2.302313\nEpoch 15, loss: 2.301480\nEpoch 16, loss: 2.301832\nEpoch 17, loss: 2.301640\nEpoch 18, loss: 2.302183\nEpoch 19, loss: 2.302482\ntrain learning_rate = 1e-05 reg_strength = 1e-07 accuracy = 0.12\nbest validation accuracy achieved: 0.213000\n"
    }
   ],
   "source": [
    "num_epochs = 200\n",
    "batch_size = 300\n",
    "\n",
    "learning_rates = [1e-3, 1e-4, 1e-5]\n",
    "reg_strengths = [1e-4, 1e-5, 1e-6, 1e-7]\n",
    "\n",
    "best_classifier = None\n",
    "best_val_accuracy = 0\n",
    "\n",
    "# TODO use validation set to find the best hyperparameters\n",
    "# hint: for best results, you might need to try more values for learning rate and regularization strength \n",
    "# than provided initially\n",
    "acc = 0\n",
    "for lr in learning_rates:\n",
    "    for rs in reg_strengths:\n",
    "        classifier = linear_classifer.LinearSoftmaxClassifier()\n",
    "        classifier.fit(train_X, train_y, epochs=20, learning_rate=lr, reg=rs)\n",
    "        pred = classifier.predict(val_X)\n",
    "        acc = multiclass_accuracy(pred, val_y)\n",
    "        print(f'train learning_rate = {lr} reg_strength = {rs} accuracy = {acc}')\n",
    "        if acc > best_val_accuracy:\n",
    "            best_val_accuracy = acc\n",
    "            best_classifier = classifier\n",
    "print('best validation accuracy achieved: %f' % best_val_accuracy)"
   ]
  },
  {
   "cell_type": "markdown",
   "metadata": {},
   "source": [
    "# Какой же точности мы добились на тестовых данных?"
   ]
  },
  {
   "cell_type": "code",
   "execution_count": 117,
   "metadata": {},
   "outputs": [
    {
     "name": "stdout",
     "output_type": "stream",
     "text": "Linear softmax classifier test set accuracy: 0.185000\n"
    }
   ],
   "source": [
    "test_pred = best_classifier.predict(test_X)\n",
    "test_accuracy = multiclass_accuracy(test_pred, test_y)\n",
    "print('Linear softmax classifier test set accuracy: %f' % (test_accuracy, ))"
   ]
  },
  {
   "cell_type": "code",
   "execution_count": null,
   "metadata": {},
   "outputs": [],
   "source": []
  }
 ],
 "metadata": {
  "kernelspec": {
   "display_name": "Python 3",
   "language": "python",
   "name": "python3"
  },
  "language_info": {
   "codemirror_mode": {
    "name": "ipython",
    "version": 3
   },
   "file_extension": ".py",
   "mimetype": "text/x-python",
   "name": "python",
   "nbconvert_exporter": "python",
   "pygments_lexer": "ipython3",
   "version": "3.7.3"
  }
 },
 "nbformat": 4,
 "nbformat_minor": 2
}